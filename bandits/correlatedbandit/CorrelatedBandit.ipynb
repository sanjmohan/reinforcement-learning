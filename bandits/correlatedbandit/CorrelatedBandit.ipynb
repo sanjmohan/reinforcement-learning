{
 "cells": [
  {
   "cell_type": "markdown",
   "metadata": {},
   "source": [
    "# Correlated Bandit Problem\n",
    "\n",
    "Experiments on https://arxiv.org/abs/1902.02953"
   ]
  },
  {
   "cell_type": "code",
   "execution_count": null,
   "metadata": {},
   "outputs": [],
   "source": [
    "import numpy as np\n",
    "import random\n",
    "from scipy import stats"
   ]
  },
  {
   "cell_type": "code",
   "execution_count": null,
   "metadata": {},
   "outputs": [],
   "source": [
    "class BaseCorrelatedBandit():\n",
    "    def __init__(self, num_arms):\n",
    "        self.num_arms = num_arms\n",
    "        \n",
    "    def _sample_distr(self):\n",
    "        # throw error not implemented\n",
    "        pass\n",
    "    \n",
    "    # 0-indexed\n",
    "    def sample_arms(self, arms=None, size=1):\n",
    "        multi_sample = self._sample_distr(size=size)\n",
    "        if arms is None:\n",
    "            arms = list(range(len(multi_sample)))\n",
    "        else:\n",
    "            arms = list(arms)\n",
    "        samples = np.reshape(multi_sample, (size, -1))\n",
    "        return samples[:, arms]\n",
    "    \n",
    "    def mse(self):\n",
    "        # throw error not implemented\n",
    "        pass\n",
    "    \n",
    "    def best_arm(self):\n",
    "        return np.argmin(self.mse())\n",
    "    \n",
    "    def hbar(self):\n",
    "        mse_vals = self.mse()\n",
    "        best_arm = self.best_arm()\n",
    "        return sum(1/(v - mse_vals[best_arm])**2 for i,v in enumerate(mse_vals) if i != best_arm)"
   ]
  },
  {
   "cell_type": "code",
   "execution_count": null,
   "metadata": {},
   "outputs": [],
   "source": [
    "class GaussianBandit(BaseCorrelatedBandit):\n",
    "    def __init__(self, num_arms, mean=None, cov=1):\n",
    "        super(GaussianBandit, self).__init__(num_arms)\n",
    "        if mean is None:\n",
    "            mean = np.zeros(self.num_arms)\n",
    "        self.distr = stats.multivariate_normal(mean=mean, cov=cov)\n",
    "        \n",
    "    def _sample_distr(self, size=1):\n",
    "        return self.distr.rvs(size=size)\n",
    "    \n",
    "    def mse(self):\n",
    "        xvars = np.diagonal(self.distr.cov)\n",
    "        xcorr = self.distr.cov / np.sqrt(xvars) / np.sqrt(np.reshape(xvars, (-1,1)))\n",
    "        return np.sum(xvars*(1-xcorr*xcorr), axis=1)      "
   ]
  },
  {
   "cell_type": "code",
   "execution_count": null,
   "metadata": {},
   "outputs": [],
   "source": [
    "K = 10\n",
    "c = np.random.rand(K,K)\n",
    "c = c.dot(c.T)\n",
    "B = GaussianBandit(K, cov=c)\n",
    "print(B.mse())"
   ]
  },
  {
   "cell_type": "code",
   "execution_count": null,
   "metadata": {},
   "outputs": [],
   "source": [
    "# arm_sample_dict = dict of pair => 2xM size matrix of M samples\n",
    "def sample_stats(arm_sample_dict, num_arms=None):\n",
    "    emeans = np.zeros((num_arms, num_arms))\n",
    "    evars = np.zeros((num_arms, num_arms))\n",
    "    ecorrs = np.zeros((num_arms, num_arms))\n",
    "    for inds,xs in arm_sample_dict.items():\n",
    "        i,j = inds\n",
    "        xs = xs.transpose()\n",
    "#         print(xs.shape)\n",
    "        emeans[i,j],  emeans[j,i] = np.mean(xs, axis=1)\n",
    "        # ddof = 0: estimator used in paper; ddof = 1: unbiased estimator\n",
    "        evars[i,j],   evars[j,i]  = np.var(xs, ddof=0, axis=1)\n",
    "        ecorrs[i,j] = ecorrs[j,i] = np.corrcoef(xs)[0,1]\n",
    "    return emeans, evars, ecorrs"
   ]
  },
  {
   "cell_type": "code",
   "execution_count": null,
   "metadata": {},
   "outputs": [],
   "source": [
    "def mse_arm(i, evars, ecorrs):\n",
    "    return sum(evars[p,i]*(1-ecorrs[p,i]**2) for p in range(ecorrs.shape[0]) if p != i)\n",
    "\n",
    "def mse(arms, samples, num_arms=None):\n",
    "    _, evars, ecorrs = sample_stats(arms, samples, num_arms=num_arms)\n",
    "    return np.sum(np.transpose(evars)*(1-ecorrs*ecorrs), axis=1)\n",
    "\n",
    "def mse(arms_dict, num_arms=None):\n",
    "    _, evars, ecorrs = sample_stats(arms_dict, num_arms=num_arms)\n",
    "    return np.sum(np.transpose(evars)*(1-ecorrs*ecorrs), axis=1)"
   ]
  },
  {
   "cell_type": "code",
   "execution_count": null,
   "metadata": {},
   "outputs": [],
   "source": [
    "def uniform_sampling(bandit, trials):\n",
    "    n = (2*trials) // (bandit.num_arms*(bandit.num_arms-1))\n",
    "    arms_dict = dict()\n",
    "    for i in range(bandit.num_arms):\n",
    "        for j in range(i+1, bandit.num_arms):\n",
    "            arms_dict[(i,j)] = bandit.sample_arms(arms=[i,j], size=n)\n",
    "    mse_vals = mse(arms_dict, num_arms=bandit.num_arms)\n",
    "    return np.argmin(mse_vals), mse_vals"
   ]
  },
  {
   "cell_type": "code",
   "execution_count": null,
   "metadata": {},
   "outputs": [],
   "source": [
    "def sr_trials(n, K):\n",
    "    ck = (K-1)/2 + sum(j/(K-j) for j in range(1, K-1))\n",
    "    K2 = K*(K-1)/2\n",
    "    # ceiling division\n",
    "#     [print((n-K2),\"/(\",ck,\"*\",(K+1-k),\")\", -(-(n-K2) / (ck*(K+1-k)))) for k in range(1, K)]\n",
    "    return [-(-(n-K2) // (ck*(K+1-k))) for k in range(1, K)]\n",
    "\n",
    "# verbose: 0 => no prints, 1 => print 0-indexed, 2 => print 1-indexed\n",
    "def successive_rejects(bandit, trials, verbose=0):\n",
    "    B = set(range(bandit.num_arms))\n",
    "    A = set((i,j) for i in range(bandit.num_arms) for j in range(i+1, bandit.num_arms))\n",
    "    ns = [0] + sr_trials(trials, bandit.num_arms)\n",
    "    ts = np.subtract(ns[1:], ns[:-1])\n",
    "    mse_ests = np.zeros(bandit.num_arms)\n",
    "    arms_dict = dict()\n",
    "    for k,t in enumerate(ts):\n",
    "        if verbose:\n",
    "            print(f\"Phase {k+1}: {int(t)} samples per pair\")\n",
    "        for pair in A:\n",
    "#         for pair in arms_dict:\n",
    "            if int(t) == 0:\n",
    "                break\n",
    "            if pair not in arms_dict:\n",
    "                arms_dict[pair] = bandit.sample_arms(arms=list(pair), size=int(t))\n",
    "            else:\n",
    "                arms_dict[pair] = np.concatenate((arms_dict[pair], bandit.sample_arms(arms=list(pair), size=int(t))), axis=0)\n",
    "        mse_vals = mse(arms_dict, num_arms=bandit.num_arms)\n",
    "        reject, val = max(((i,v) for (i,v) in enumerate(mse_vals) if i in B), key=lambda x: x[1])\n",
    "        if verbose:\n",
    "            print(f\"  MSE Estimates: {mse_vals}\")\n",
    "            print(f\"  Rejected arm:  {reject+verbose-1}\")\n",
    "        mse_ests[reject] = val\n",
    "        min_mse = min(v for (i,v) in enumerate(mse_vals) if i in B)\n",
    "        B.remove(reject)\n",
    "        A = {p for p in A if p[0] in B or p[1] in B}\n",
    "        arms_dict = {p:v for p,v in arms_dict.items() if p[0] in B or p[1] in B}\n",
    "    arm = B.pop()\n",
    "    # these estimates might be really bad\n",
    "    mse_ests[arm] = min_mse\n",
    "    if verbose:\n",
    "        print(f\"Best arm: {arm+verbose-1}\")\n",
    "    return arm, mse_ests"
   ]
  },
  {
   "cell_type": "markdown",
   "metadata": {},
   "source": [
    "### Ex 0: Illustrating the Algorithms"
   ]
  },
  {
   "cell_type": "code",
   "execution_count": null,
   "metadata": {},
   "outputs": [],
   "source": [
    "S0 = np.array([[1,0.6,0.2,0.1],\n",
    "               [0.6,1,0.1,0.1],\n",
    "               [0.2,0.1,1,0.0],\n",
    "               [0.1,0.1,0.0,1]])\n",
    "B0 = GaussianBandit(S0.shape[0], cov=S0)\n",
    "np.argmin(B0.mse()), B0.mse()"
   ]
  },
  {
   "cell_type": "code",
   "execution_count": null,
   "metadata": {},
   "outputs": [],
   "source": [
    "successive_rejects(B0, 50000, verbose=2)"
   ]
  },
  {
   "cell_type": "code",
   "execution_count": null,
   "metadata": {},
   "outputs": [],
   "source": [
    "bandit = B0\n",
    "trials = 50000\n",
    "print(\"#trials =\", trials)\n",
    "%time b0_unif = np.mean([uniform_sampling(bandit, trials)[0] == bandit.best_arm() for _ in range(100)])\n",
    "%time b0_succ = np.mean([successive_rejects(bandit, trials)[0] == bandit.best_arm() for _ in range(100)])\n",
    "b0_unif, b0_succ"
   ]
  },
  {
   "cell_type": "markdown",
   "metadata": {},
   "source": [
    "### Ex 1-3: Recreating Experiments from Boda & Prashanth"
   ]
  },
  {
   "cell_type": "code",
   "execution_count": null,
   "metadata": {},
   "outputs": [],
   "source": [
    "M1 = np.array([[1, 0.9, 0.9, 0.9],  [0.9, 1, 0.85, 0.85], [0.9, 0.85, 1, 0.85], [0.9, 0.85, 0.85, 1]])\n",
    "S1 = np.block([[M1, np.zeros((4,25))], [np.zeros((25,4)), np.eye(25)]])\n",
    "B1 = GaussianBandit(S1.shape[0], cov=S1)\n",
    "np.argmin(B1.mse()), B1.mse()"
   ]
  },
  {
   "cell_type": "code",
   "execution_count": null,
   "metadata": {},
   "outputs": [],
   "source": [
    "bandit = B1\n",
    "trials = int(bandit.hbar() * 32 * 32) * 4\n",
    "print(\"#trials =\", trials)\n",
    "%time b1_unif = np.mean([uniform_sampling(bandit, trials)[0] == bandit.best_arm() for _ in range(100)])\n",
    "%time b1_succ = np.mean([successive_rejects(bandit, trials)[0] == bandit.best_arm() for _ in range(100)])\n",
    "b1_unif, b1_succ"
   ]
  },
  {
   "cell_type": "code",
   "execution_count": null,
   "metadata": {},
   "outputs": [],
   "source": [
    "Tr = np.eye(31) + 0.2*np.eye(31, k=1) + 0.2*np.eye(31,k=-1)\n",
    "S2 = np.block([[M1, np.zeros((4,31))], [np.zeros((31,4)), Tr]])\n",
    "B2 = GaussianBandit(S2.shape[0], cov=S2)\n",
    "np.argmin(B2.mse()), B2.mse()"
   ]
  },
  {
   "cell_type": "code",
   "execution_count": null,
   "metadata": {},
   "outputs": [],
   "source": [
    "bandit = B2\n",
    "# trials = 500000\n",
    "trials = int(bandit.hbar() * 32 * 32) * 4\n",
    "print(\"#trials =\", trials)\n",
    "%time b2_unif = np.mean([uniform_sampling(bandit, trials)[0] == bandit.best_arm() for _ in range(100)])\n",
    "%time b2_succ = np.mean([successive_rejects(bandit, trials)[0] == bandit.best_arm() for _ in range(100)])\n",
    "b2_unif, b2_succ"
   ]
  },
  {
   "cell_type": "code",
   "execution_count": null,
   "metadata": {},
   "outputs": [],
   "source": [
    "M3 = np.array([[1,0.5,0.45,0.5], [0.5,1,0.45,0.4], [0.45,0.45,1,0.4], [0.5,0.4,0.4,1]])\n",
    "S3 = np.block([[M3, np.zeros((4,30))], [np.zeros((30,4)), np.eye(30)]])\n",
    "B3 = GaussianBandit(S3.shape[0], cov=S3)\n",
    "np.argmin(B3.mse()), B3.mse()"
   ]
  },
  {
   "cell_type": "code",
   "execution_count": null,
   "metadata": {},
   "outputs": [],
   "source": [
    "bandit = B3\n",
    "# trials = 500000\n",
    "trials = int(bandit.hbar() * 32 * 32) * 4\n",
    "print(\"#trials =\", trials)\n",
    "%time b3_unif = np.mean([uniform_sampling(bandit, trials)[0] == bandit.best_arm() for _ in range(100)])\n",
    "%time b3_succ = np.mean([successive_rejects(bandit, trials)[0] == bandit.best_arm() for _ in range(100)])\n",
    "b3_unif, b3_succ"
   ]
  },
  {
   "cell_type": "markdown",
   "metadata": {},
   "source": [
    "### Ex 4: Many arms correlated, many arms uncorrelated"
   ]
  },
  {
   "cell_type": "code",
   "execution_count": null,
   "metadata": {},
   "outputs": [],
   "source": [
    "a = [np.linspace(0.5, 0.35, num=15)]\n",
    "M5 = np.outer(a,a)\n",
    "np.fill_diagonal(M5, 1)\n",
    "S5 = np.block([[M5, np.zeros((15,15))], [np.zeros((15,15)), np.eye(15)]])\n",
    "B5 = GaussianBandit(S5.shape[0], cov=S5)\n",
    "np.argmin(B5.mse()), B5.mse()"
   ]
  },
  {
   "cell_type": "code",
   "execution_count": null,
   "metadata": {},
   "outputs": [],
   "source": [
    "bandit = B5\n",
    "# trials = 500000\n",
    "trials = int(bandit.hbar() * 32 * 32 / 2)\n",
    "print(\"#trials =\", trials)\n",
    "%time b5_unif = np.mean([uniform_sampling(bandit, trials)[0] == bandit.best_arm() for _ in range(100)])\n",
    "%time b5_succ = np.mean([successive_rejects(bandit, trials)[0] == bandit.best_arm() for _ in range(100)])\n",
    "b5_unif, b5_succ"
   ]
  },
  {
   "cell_type": "markdown",
   "metadata": {},
   "source": [
    "### Results"
   ]
  },
  {
   "cell_type": "code",
   "execution_count": null,
   "metadata": {},
   "outputs": [],
   "source": [
    "import matplotlib.pyplot as plt"
   ]
  },
  {
   "cell_type": "code",
   "execution_count": null,
   "metadata": {},
   "outputs": [],
   "source": [
    "def bar_graph(results, width=0.15, labels=None):\n",
    "    if labels is None:\n",
    "        labels = ['Experiment ' + str(i+1) for i in range(len(results))]\n",
    "    plt.figure(figsize=(8,6))\n",
    "    x = np.arange(len(results))\n",
    "    res = np.array(list(zip(*results)))\n",
    "    plt.bar(x - width/2, 1 - res[0,:], width, label='Uniform Sampling', tick_label=labels, zorder=2)\n",
    "    plt.bar(x + width/2, 1 - res[1,:], width, label='Successive Rejects', zorder=2)\n",
    "    # Add some text for labels, title and custom x-axis tick labels, etc.\n",
    "    plt.ylabel('Probability of Error')\n",
    "    plt.xticks(x)\n",
    "    plt.yticks(np.arange(0, np.max(1-res) + 0.15, 0.05))\n",
    "    plt.grid(b=True, axis='y', zorder=1)\n",
    "    plt.legend(loc='upper right')"
   ]
  },
  {
   "cell_type": "code",
   "execution_count": null,
   "metadata": {},
   "outputs": [],
   "source": [
    "bar_graph([[b0_unif, b0_succ]], labels=['Experiment 0'])\n",
    "plt.xlim(-1,1)"
   ]
  },
  {
   "cell_type": "code",
   "execution_count": null,
   "metadata": {},
   "outputs": [],
   "source": [
    "bar_graph([[b1_unif, b1_succ], [b2_unif, b2_succ], [b3_unif, b3_succ]])"
   ]
  },
  {
   "cell_type": "code",
   "execution_count": null,
   "metadata": {},
   "outputs": [],
   "source": [
    "bar_graph([[b5_unif, b5_succ]], width=0.15, labels=['Experiment 5'])\n",
    "plt.xlim(-1,1)\n",
    "plt.show()"
   ]
  },
  {
   "cell_type": "code",
   "execution_count": null,
   "metadata": {},
   "outputs": [],
   "source": []
  }
 ],
 "metadata": {
  "kernelspec": {
   "display_name": "Python 3",
   "language": "python",
   "name": "python3"
  },
  "language_info": {
   "codemirror_mode": {
    "name": "ipython",
    "version": 3
   },
   "file_extension": ".py",
   "mimetype": "text/x-python",
   "name": "python",
   "nbconvert_exporter": "python",
   "pygments_lexer": "ipython3",
   "version": "3.6.10"
  }
 },
 "nbformat": 4,
 "nbformat_minor": 4
}
